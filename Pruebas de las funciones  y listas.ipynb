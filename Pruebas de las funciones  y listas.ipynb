{
 "cells": [
  {
   "cell_type": "code",
   "execution_count": null,
   "metadata": {},
   "outputs": [],
   "source": [
    "closet=[\"camisas\",\"medias\",\"shorts\"]\n",
    "\n",
    "for ropa range (0,5):\n",
    "    print(ropa)"
   ]
  },
  {
   "cell_type": "code",
   "execution_count": null,
   "metadata": {},
   "outputs": [],
   "source": [
    "def nombres():\n",
    "\n",
    "    print(\"Maria\")\n",
    "    print(\"Pedro\")\n",
    "    print(\"Juan\")\n",
    "    print(\"\\n\")\n",
    "\n",
    "i=0\n",
    "\n",
    "while i<5:\n",
    "    \n",
    "    nombres()\n",
    "\n",
    "    i+=1"
   ]
  },
  {
   "cell_type": "code",
   "execution_count": 1,
   "metadata": {},
   "outputs": [
    {
     "name": "stdout",
     "output_type": "stream",
     "text": [
      "-1\n",
      "\n",
      "\n",
      "1\n"
     ]
    }
   ],
   "source": [
    "def suma(num1,num2):\n",
    "\n",
    "    resultado = num1 + num2\n",
    "\n",
    "    return resultado\n",
    "\n",
    "def resta(num1,num2):\n",
    "    \n",
    "    resultado= num1 - num2\n",
    "    return resultado\n",
    "\n",
    "print(resta(1,2))\n",
    "print(\"\\n\")\n",
    "print(resta(2,1))"
   ]
  },
  {
   "cell_type": "code",
   "execution_count": null,
   "metadata": {},
   "outputs": [],
   "source": [
    "def matematica (num1,num2):\n",
    "\n",
    "    resultado= (f\"{suma(num1,num2)} , {resta(num1,num2)}\")\n",
    "    return resultado\n",
    "\n",
    "numero1= int(input(\"Ingresa el numero 1 \"))\n",
    "numero2= int(input(\"Ingresa el numero 2 \"))\n",
    "\n",
    "print (f\"{suma(numero1,numero2)},{resta(numero1,numero2)}\")\n",
    "\n",
    "print (\"\\n\")\n",
    "\n",
    "print(matematica(numero1,numero2))"
   ]
  },
  {
   "cell_type": "code",
   "execution_count": 2,
   "metadata": {},
   "outputs": [
    {
     "name": "stdout",
     "output_type": "stream",
     "text": [
      "Pantalon\n"
     ]
    }
   ],
   "source": [
    "\n",
    "\n",
    "closet = [\"Pantalon\", \"Camisa\", \"Harina pan\"]\n",
    "\n",
    "print (closet[0])"
   ]
  },
  {
   "cell_type": "code",
   "execution_count": null,
   "metadata": {},
   "outputs": [],
   "source": [
    "Netflix = [\"Batman\",\"Simon\", \"Ley de los audaces\"]\n",
    "running = True\n",
    "\n",
    "while running:\n",
    "    \n",
    "    print(\"1.Anadir \\n2. Ver lista \\n3. Borrar elemento \\n4.Salir \\n\")\n",
    "\n",
    "    opcion=int(input(\"Ingrese una opcion: \"))\n",
    "\n",
    "    if opcion == 1:\n",
    "        pelicula=input (\"Anade una pelicula: \")\n",
    "        Netflix.append(pelicula)\n",
    "\n",
    "    if opcion == 2:\n",
    "        print(Netflix)\n",
    "\n",
    "    if opcion == 3:\n",
    "        indice = int(input(\"Ingrese el numero que desea borrar:\" ))\n",
    "        Netflix.remove(indice)\n",
    "\n",
    "    if opcion == 4:\n",
    "        print(\"Vuelva pronto\")\n",
    "        running = False\n",
    "\n",
    "    print(\"\\n\")"
   ]
  },
  {
   "cell_type": "code",
   "execution_count": null,
   "metadata": {},
   "outputs": [],
   "source": [
    "listas = [[\"Alejandro\",2412101], [\"Pedro\", 124120], [\"Jesus\", 582142]]\n",
    "\n",
    "#Listas             0                     1                  2\n",
    "#Sublista     0           1          0       1          0        1\n",
    "\n",
    "print(listas [0] [1])\n",
    "print(listas [1] [1])"
   ]
  },
  {
   "cell_type": "code",
   "execution_count": 23,
   "metadata": {},
   "outputs": [
    {
     "name": "stdout",
     "output_type": "stream",
     "text": [
      "['Alejandro', 2412101, 'Cedula']\n"
     ]
    }
   ],
   "source": [
    "sub_1 = [\"Alejandro\",2412101, \"Cedula\"]\n",
    "\n",
    "##sub_1 =     0        1        2\n",
    "\n",
    "sub_2 = [\"Pedro\", 124120]\n",
    "sub_3 = [\"Jesus\", 582142]\n",
    "\n",
    "lista = [sub_1,sub_2,sub_3]\n",
    "\n",
    "print(lista [0][0:3:1])\n",
    "#Los corchetes son para especificar el nombre de la lista\n",
    "#El segundo \":\" Es la cantidad que permite mostrar en pantalla\n",
    "#El ultimo \":\" se encarga de cuantos numeros se va a saltar"
   ]
  },
  {
   "cell_type": "code",
   "execution_count": 24,
   "metadata": {},
   "outputs": [
    {
     "name": "stdout",
     "output_type": "stream",
     "text": [
      "2412101\n"
     ]
    }
   ],
   "source": [
    "diccionario ={ \"nombre\": \"Alejandro\",\n",
    "              \"cedula\":2412101,\n",
    "              \"Residencia\": \"lecheria\"}\n",
    "\n",
    "print(diccionario[\"cedula\"])"
   ]
  },
  {
   "cell_type": "code",
   "execution_count": 25,
   "metadata": {},
   "outputs": [
    {
     "name": "stdout",
     "output_type": "stream",
     "text": [
      "[1, 6, 2, 3, 4, 5, 6, 7]\n"
     ]
    }
   ],
   "source": [
    "\n",
    "personas=[1,2,3,4,5,6,7]\n",
    "\n",
    "personas.insert(1,6)\n",
    "\n",
    "print(personas)"
   ]
  }
 ],
 "metadata": {
  "kernelspec": {
   "display_name": "Python 3",
   "language": "python",
   "name": "python3"
  },
  "language_info": {
   "codemirror_mode": {
    "name": "ipython",
    "version": 3
   },
   "file_extension": ".py",
   "mimetype": "text/x-python",
   "name": "python",
   "nbconvert_exporter": "python",
   "pygments_lexer": "ipython3",
   "version": "3.11.9"
  }
 },
 "nbformat": 4,
 "nbformat_minor": 2
}
